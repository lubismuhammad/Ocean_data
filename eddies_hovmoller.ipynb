{
 "cells": [
  {
   "cell_type": "code",
   "execution_count": 1,
   "id": "e2411bf0-ccec-4260-94c7-644eb4c4e42d",
   "metadata": {},
   "outputs": [],
   "source": [
    "%load_ext ferretmagic"
   ]
  },
  {
   "cell_type": "code",
   "execution_count": 2,
   "id": "4848e316-6afd-4057-aaae-f44b4db6fe09",
   "metadata": {},
   "outputs": [
    {
     "data": {
      "text/html": [
       "<pre style=\"background-color:#ECF6CE; border-radius: 4px 4px 4px 4px; font-size: smaller\">     currently SET data sets:\n",
       "    1> ./CMEMS_GLO-halmahera_vo_0_2009_2020_0_250_luas_ok.nc\n",
       " name     title                             I         J         K         L\n",
       " VO       Northward velocity               1:11      1:35      1:27      1:4382\n",
       " \n",
       "    2> ./CMEMS_GLO-halmahera_uo_0_2009_2020_0_250_luas_ok.nc  (default)\n",
       " name     title                             I         J         K         L\n",
       " UO       Eastward velocity                1:11      1:35      1:27      1:4382\n",
       " \n",
       "</pre>"
      ]
     },
     "metadata": {},
     "output_type": "display_data"
    }
   ],
   "source": [
    "%%ferret\n",
    "use CMEMS_GLO-halmahera_vo_0_2009_2020_0_250_luas_ok.nc\n",
    "use CMEMS_GLO-halmahera_uo_0_2009_2020_0_250_luas_ok.nc\n",
    "sh da \n"
   ]
  },
  {
   "cell_type": "code",
   "execution_count": 3,
   "id": "2b425464-e627-4c1d-941a-987c0d8a2260",
   "metadata": {},
   "outputs": [
    {
     "data": {
      "text/html": [
       "<pre style=\"background-color:#ECF6CE; border-radius: 4px 4px 4px 4px; font-size: smaller\">             VARIABLE : 0.5 * (VT^2 + UT^2)\n",
       "             LONGITUDE: 128.9E to 129.8E\n",
       "             LATITUDE : 0\n",
       "             DEPTH (m): 0 to 240.7\n",
       "             TIME     : 31-DEC-2008 12:00 to 30-DEC-2020 12:00 (averaged)\n",
       "          0.01705\n",
       "</pre>"
      ]
     },
     "metadata": {},
     "output_type": "display_data"
    }
   ],
   "source": [
    "%%ferret\n",
    "! Ambil data kecepatan\n",
    "let vt = vo[d=1, x=128.86:129.75@ave, y=0, z=0:250@ave]\n",
    "let ut = uo[d=2, x=128.86:129.75@ave, y=0, z=0:250@ave]\n",
    "\n",
    "! Hitung Energi Kinetik (EKE)\n",
    "let eke = 0.5 * (vt^2 + ut^2)\n",
    "\n",
    "! Tampilkan hasil\n",
    "list eke[l=@ave]\n"
   ]
  },
  {
   "cell_type": "code",
   "execution_count": 5,
   "id": "454c8c45-73e5-4e52-b765-aa9d453cd78b",
   "metadata": {},
   "outputs": [
    {
     "data": {
      "text/html": [
       "<pre style=\"background-color:#ECF6CE; border-radius: 4px 4px 4px 4px; font-size: smaller\">             VARIABLE : 0.5 * (VT^2 + UT^2)\n",
       "             LONGITUDE: 128.9E to 129.8E\n",
       "             LATITUDE : 0\n",
       "             DEPTH (m): 0 to 240.7\n",
       "             TIME     : 31-DEC-2008 12:00 to 30-DEC-2020 12:00 (standard deviation)\n",
       "          0.01697\n",
       "</pre>"
      ]
     },
     "metadata": {},
     "output_type": "display_data"
    }
   ],
   "source": [
    "%%ferret\n",
    "! Ambil data kecepatan\n",
    "let vt = vo[d=1, x=128.86:129.75@ave, y=0, z=0:250@ave]\n",
    "let ut = uo[d=2, x=128.86:129.75@ave, y=0, z=0:250@ave]\n",
    "\n",
    "! Hitung Energi Kinetik (EKE)\n",
    "let eke = 0.5 * (vt^2 + ut^2)\n",
    "\n",
    "! Tampilkan hasil\n",
    "list eke[l=@std]"
   ]
  },
  {
   "cell_type": "code",
   "execution_count": null,
   "id": "05279694-b3b8-4dd5-aa2d-03658272ff0d",
   "metadata": {},
   "outputs": [],
   "source": [
    "%%ferret\n",
    "set text/font=timesnewroman/isiz=0.1\n",
    "set win/as=1.8\n",
    "fill/lev=(-inf)(32,35,0.1)(inf)/pal=rnb2/key=cont,horiz/title=\"Sea surface salinity (PSU)\" so[y=1.15,z=0,d=1,x=127:127.38,l=@shn:29]; \n",
    "\n",
    "!frame/file=sss_transect_0m_latitude_1.15N_lab.png/ypixels=5000"
   ]
  },
  {
   "cell_type": "code",
   "execution_count": 6,
   "id": "1960c8fe-f0fa-44d8-9d6e-851737dde504",
   "metadata": {},
   "outputs": [
    {
     "data": {
      "text/html": [
       "<div class=\"myoutput\"><img src=\"data:image/png;base64,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\"/></div>"
      ]
     },
     "metadata": {},
     "output_type": "display_data"
    }
   ],
   "source": [
    "%%ferret\n",
    "set win/as=0.3\n",
    "set text/font=timesnewroman/isiz=0.4\n",
    "\n",
    "! Ambil data kecepatan\n",
    "let vt = vo[d=1, x=128.86:129.75@ave, y=0, z=0:5@ave]\n",
    "let ut = uo[d=2, x=128.86:129.75@ave, y=0, z=0:5@ave]\n",
    "\n",
    "! Ambil data kecepatan 2\n",
    "let vt1 = vo[d=1, x=128.86:129.75@ave, y=1.2, z=0:5@ave]\n",
    "let ut1 = uo[d=2, x=128.86:129.75@ave, y=1.2, z=0:5@ave]\n",
    "\n",
    "! Ambil data kecepatan 3\n",
    "let vt2 = vo[d=1, x=128.86:129.75@ave, y=1.6, z=0:5@ave]\n",
    "let ut2 = uo[d=2, x=128.86:129.75@ave, y=1.6, z=0:5@ave]\n",
    "\n",
    "! Hitung Energi Kinetik (EKE)\n",
    "let eke = 0.5 * (vt^2 + ut^2)\n",
    "\n",
    "! Hitung Energi Kinetik (EKE)\n",
    "let eke1 = 0.5 * (vt1^2 + ut1^2)\n",
    "\n",
    "! Hitung Energi Kinetik (EKE)\n",
    "let eke2 = 0.5 * (vt2^2 + ut2^2)\n",
    "\n",
    "! Menghitung rata-rata EKE pada kedalaman\n",
    "let eke_avg_1 = eke[z=0:5@ave]\n",
    "let eke_avg_2 = eke1[z=0:5@ave]\n",
    "let eke_avg_3 = eke2[z=0:5@ave]\n",
    "\n",
    "! Visualisasi EKE\n",
    "!fill/lev=(-inf)(32,35,0.1)(inf)/pal=rnb2/key=cont,horiz/title=\"EKE (PSU)\" eke[y=1.15,z=0:250,d=1,x=127:127.38,l=@shn:29]; \n",
    "\n",
    "fill/pal=rnb2/key=cont,vertical/title=\"Meridional velocity (m/s)\" eke[y=1.15,z=0:100,d=2,x=127:127.38,l=@shn:31]; \n",
    "\n",
    "\n",
    "! Menyimpan frame jika diperlukan\n",
    "!frame/file=eddies_beda_depth_0sampai5m.png/ypixels=3000\n"
   ]
  },
  {
   "cell_type": "code",
   "execution_count": 10,
   "id": "dc9405bf-d97f-4208-b53b-eb6a043e7318",
   "metadata": {},
   "outputs": [
    {
     "data": {
      "text/html": [
       "<pre style=\"background-color:#F79F81; border-radius: 4px 4px 4px 4px; font-size: smaller\">yes? fill/pal=rnb2/key=cont,horiz/title=\"Sea surface salinity (PSU)\" uo[y=1.15,z=0,d=2,x=127:127.38,l=@shn:29]; \n",
       "**ERROR: dimensions improperly specified: must be a 2D region <br />CONTOUR/FILL/pal=rnb2/key=cont,horiz/title=\"Sea surface salinity (PSU)\" uo[y=1.15,z=0,d=2,x=127:127.38,l=@shn:29] </pre>"
      ]
     },
     "metadata": {},
     "output_type": "display_data"
    }
   ],
   "source": [
    "%%ferret\n",
    "set text/font=timesnewroman/isiz=0.1\n",
    "set win/as=1.8\n",
    "fill/pal=rnb2/key=cont,horiz/title=\"Sea surface salinity (PSU)\" uo[y=1.15,z=0,d=2,x=127:127.38,l=@shn:29]; \n",
    "\n",
    "!frame/file=sss_transect_0m_latitude_1.15N_lab.png/ypixels=5000"
   ]
  },
  {
   "cell_type": "code",
   "execution_count": null,
   "id": "6901fa7a-7f78-4d8c-9e3e-9762ff5897c3",
   "metadata": {},
   "outputs": [],
   "source": []
  }
 ],
 "metadata": {
  "kernelspec": {
   "display_name": "Python 3",
   "language": "python",
   "name": "python3"
  },
  "language_info": {
   "codemirror_mode": {
    "name": "ipython",
    "version": 3
   },
   "file_extension": ".py",
   "mimetype": "text/x-python",
   "name": "python",
   "nbconvert_exporter": "python",
   "pygments_lexer": "ipython3",
   "version": "3.6.7"
  }
 },
 "nbformat": 4,
 "nbformat_minor": 5
}
